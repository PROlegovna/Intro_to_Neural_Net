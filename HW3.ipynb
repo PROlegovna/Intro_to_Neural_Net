{
 "cells": [
  {
   "cell_type": "markdown",
   "metadata": {
    "id": "t4Gr6WSWZeif"
   },
   "source": [
    "# TensorFlow"
   ]
  },
  {
   "cell_type": "markdown",
   "metadata": {
    "id": "FbVhjPpzn6BM"
   },
   "source": [
    "### Данные урока"
   ]
  },
  {
   "cell_type": "code",
   "execution_count": 111,
   "metadata": {
    "id": "dzLKpmZICaWN"
   },
   "outputs": [
    {
     "name": "stdout",
     "output_type": "stream",
     "text": [
      "2.11.0\n"
     ]
    }
   ],
   "source": [
    "from __future__ import absolute_import, division, print_function, unicode_literals\n",
    "\n",
    "# TensorFlow and tf.keras\n",
    "import tensorflow as tf\n",
    "from tensorflow import keras\n",
    "from tensorflow.keras.layers import TextVectorization\n",
    "\n",
    "# Helper libraries\n",
    "import numpy as np\n",
    "import matplotlib.pyplot as plt\n",
    "\n",
    "print(tf.__version__)"
   ]
  },
  {
   "cell_type": "markdown",
   "metadata": {
    "id": "Nvj3uNI9ZekY"
   },
   "source": [
    "## Практическое задание\n",
    "\n",
    "<ol>\n",
    "    <li>1. Попробуйте улучшить работу нейронной сети(разобранную на уроке) обучавшейся на датасет Fashion-MNIST. \n",
    "       Опишите в комментарии к уроку - какого результата вы добились от нейросети? Что помогло вам улучшить ее точность?<br><br>\n",
    "    </li>\n",
    "    \n",
    "    <li>2. Поработайте с документацией TensorFlow 2. Попробуйте найти полезные команды TensorFlow неразобранные на уроке.</li>\n",
    "        \n",
    "    <li>*3. Попробуйте обучить нейронную сеть на TensorFlow 2 на датасете imdb_reviews. Опишите в комментарии к уроку - какой результата вы добились от нейросети? Что помогло вам улучшить ее точность? </li>\n",
    "\n",
    "    \n",
    "    \n",
    "</ol>"
   ]
  },
  {
   "cell_type": "code",
   "execution_count": 2,
   "metadata": {},
   "outputs": [],
   "source": [
    "np.random.seed(0)"
   ]
  },
  {
   "cell_type": "code",
   "execution_count": 3,
   "metadata": {},
   "outputs": [],
   "source": [
    "from keras.datasets import imdb"
   ]
  },
  {
   "cell_type": "code",
   "execution_count": 93,
   "metadata": {},
   "outputs": [],
   "source": [
    "imdb = keras.datasets.imdb # загрузка IMDB\n",
    "\n",
    "(train_data, train_labels), (test_data, test_labels) = imdb.load_data(num_words=5000)"
   ]
  },
  {
   "cell_type": "code",
   "execution_count": 94,
   "metadata": {},
   "outputs": [
    {
     "name": "stdout",
     "output_type": "stream",
     "text": [
      "Training entries: 25000, labels: 25000\n"
     ]
    }
   ],
   "source": [
    "print(\"Training entries: {}, labels: {}\".format(len(train_data),\n",
    "                                               len(train_labels)))"
   ]
  },
  {
   "cell_type": "code",
   "execution_count": 95,
   "metadata": {},
   "outputs": [
    {
     "name": "stdout",
     "output_type": "stream",
     "text": [
      "[1, 14, 22, 16, 43, 530, 973, 1622, 1385, 65, 458, 4468, 66, 3941, 4, 173, 36, 256, 5, 25, 100, 43, 838, 112, 50, 670, 2, 9, 35, 480, 284, 5, 150, 4, 172, 112, 167, 2, 336, 385, 39, 4, 172, 4536, 1111, 17, 546, 38, 13, 447, 4, 192, 50, 16, 6, 147, 2025, 19, 14, 22, 4, 1920, 4613, 469, 4, 22, 71, 87, 12, 16, 43, 530, 38, 76, 15, 13, 1247, 4, 22, 17, 515, 17, 12, 16, 626, 18, 2, 5, 62, 386, 12, 8, 316, 8, 106, 5, 4, 2223, 2, 16, 480, 66, 3785, 33, 4, 130, 12, 16, 38, 619, 5, 25, 124, 51, 36, 135, 48, 25, 1415, 33, 6, 22, 12, 215, 28, 77, 52, 5, 14, 407, 16, 82, 2, 8, 4, 107, 117, 2, 15, 256, 4, 2, 7, 3766, 5, 723, 36, 71, 43, 530, 476, 26, 400, 317, 46, 7, 4, 2, 1029, 13, 104, 88, 4, 381, 15, 297, 98, 32, 2071, 56, 26, 141, 6, 194, 2, 18, 4, 226, 22, 21, 134, 476, 26, 480, 5, 144, 30, 2, 18, 51, 36, 28, 224, 92, 25, 104, 4, 226, 65, 16, 38, 1334, 88, 12, 16, 283, 5, 16, 4472, 113, 103, 32, 15, 16, 2, 19, 178, 32]\n"
     ]
    }
   ],
   "source": [
    "print(train_data[0])"
   ]
  },
  {
   "cell_type": "code",
   "execution_count": 96,
   "metadata": {},
   "outputs": [
    {
     "data": {
      "text/plain": [
       "(141, 550)"
      ]
     },
     "execution_count": 96,
     "metadata": {},
     "output_type": "execute_result"
    }
   ],
   "source": [
    "len(train_data[2]), len(train_data[3]) # кол-во слов в третьем и четвертом отзывах"
   ]
  },
  {
   "cell_type": "code",
   "execution_count": 97,
   "metadata": {},
   "outputs": [
    {
     "data": {
      "text/plain": [
       "(218, 189)"
      ]
     },
     "execution_count": 97,
     "metadata": {},
     "output_type": "execute_result"
    }
   ],
   "source": [
    "len(train_data[0]), len(train_data[1]) "
   ]
  },
  {
   "cell_type": "code",
   "execution_count": 98,
   "metadata": {},
   "outputs": [],
   "source": [
    "word_index = imdb.get_word_index() "
   ]
  },
  {
   "cell_type": "code",
   "execution_count": 99,
   "metadata": {},
   "outputs": [
    {
     "data": {
      "text/plain": [
       "[('fawn', 34701),\n",
       " ('tsukino', 52006),\n",
       " ('nunnery', 52007),\n",
       " ('sonja', 16816),\n",
       " ('vani', 63951),\n",
       " ('woods', 1408),\n",
       " ('spiders', 16115),\n",
       " ('hanging', 2345),\n",
       " ('woody', 2289),\n",
       " ('trawling', 52008),\n",
       " (\"hold's\", 52009),\n",
       " ('comically', 11307),\n",
       " ('localized', 40830),\n",
       " ('disobeying', 30568),\n",
       " (\"'royale\", 52010)]"
      ]
     },
     "execution_count": 99,
     "metadata": {},
     "output_type": "execute_result"
    }
   ],
   "source": [
    "list(word_index.items())[:15]"
   ]
  },
  {
   "cell_type": "code",
   "execution_count": 102,
   "metadata": {},
   "outputs": [],
   "source": [
    "word_index = {k:(v+3) for k,v in word_index.items()}\n",
    "word_index[\"\"] = 0\n",
    "word_index[\"\"] = 1\n",
    "word_index[\"\"] = 2 \n",
    "word_index[\"\"] = 3\n",
    "\n",
    "reverse_word_index = dict([(value, key) for (key, value) in word_index.items()])\n",
    "\n",
    "def decode_review(text):\n",
    "    return ' '.join([reverse_word_index.get(i, '?') for i in text])"
   ]
  },
  {
   "cell_type": "code",
   "execution_count": 103,
   "metadata": {},
   "outputs": [
    {
     "data": {
      "text/plain": [
       "\"? this film was just brilliant casting location scenery story direction everyone's really suited the part they played and you could just imagine being there robert ? is an amazing actor and now the same being director ? father came from the same scottish island as myself so i loved the fact there was a real connection with this film the witty remarks throughout the film were great it was just brilliant so much that i bought the film as soon as it was released for ? and would recommend it to everyone to watch and the fly ? was amazing really cried at the end it was so sad and you know what they say if you cry at a film it must have been good and this definitely was also ? to the two little ? that played the ? of norman and paul they were just brilliant children are often left out of the ? list i think because the stars that play them all grown up are such a big ? for the whole film but these children are amazing and should be ? for what they have done don't you think the whole story was so lovely because it was true and was someone's life after all that was ? with us all\""
      ]
     },
     "execution_count": 103,
     "metadata": {},
     "output_type": "execute_result"
    }
   ],
   "source": [
    "decode_review(train_data[0]) # преобразование чисел в слова"
   ]
  },
  {
   "cell_type": "code",
   "execution_count": 104,
   "metadata": {},
   "outputs": [],
   "source": [
    "maxlen = 120\n",
    "\n",
    "train_data = keras.preprocessing.sequence.pad_sequences(train_data, maxlen=maxlen)\n",
    "test_data = keras.preprocessing.sequence.pad_sequences(train_data, maxlen=maxlen)"
   ]
  },
  {
   "cell_type": "code",
   "execution_count": 106,
   "metadata": {},
   "outputs": [
    {
     "data": {
      "text/plain": [
       "(120, 120)"
      ]
     },
     "execution_count": 106,
     "metadata": {},
     "output_type": "execute_result"
    }
   ],
   "source": [
    "len(train_data[0]), len(train_data[1])"
   ]
  },
  {
   "cell_type": "code",
   "execution_count": 108,
   "metadata": {},
   "outputs": [
    {
     "name": "stdout",
     "output_type": "stream",
     "text": [
      "Model: \"sequential\"\n",
      "_________________________________________________________________\n",
      " Layer (type)                Output Shape              Param #   \n",
      "=================================================================\n",
      " embedding (Embedding)       (None, None, 16)          80000     \n",
      "                                                                 \n",
      " global_average_pooling1d (G  (None, 16)               0         \n",
      " lobalAveragePooling1D)                                          \n",
      "                                                                 \n",
      " dense_1 (Dense)             (None, 16)                272       \n",
      "                                                                 \n",
      " dense_2 (Dense)             (None, 1)                 17        \n",
      "                                                                 \n",
      "=================================================================\n",
      "Total params: 80,289\n",
      "Trainable params: 80,289\n",
      "Non-trainable params: 0\n",
      "_________________________________________________________________\n"
     ]
    }
   ],
   "source": [
    "model = keras.Sequential()\n",
    "model.add(keras.layers.Embedding(5000, 16))\n",
    "model.add(keras.layers.GlobalAveragePooling1D())\n",
    "model.add(keras.layers.Dense(16, activation=tf.nn.relu))\n",
    "model.add(keras.layers.Dense(1, activation=tf.nn.sigmoid))\n",
    "\n",
    "model.summary()"
   ]
  },
  {
   "cell_type": "code",
   "execution_count": 107,
   "metadata": {},
   "outputs": [
    {
     "name": "stdout",
     "output_type": "stream",
     "text": [
      "WARNING:tensorflow:Using a while_loop for converting RngReadAndSkip cause there is no registered converter for this op.\n",
      "WARNING:tensorflow:Using a while_loop for converting Bitcast cause there is no registered converter for this op.\n",
      "WARNING:tensorflow:Using a while_loop for converting Bitcast cause there is no registered converter for this op.\n",
      "WARNING:tensorflow:Using a while_loop for converting StatelessRandomUniformIntV2 cause there is no registered converter for this op.\n"
     ]
    }
   ],
   "source": [
    "inputs = keras.Input(shape=(None, None, 3))\n",
    "processed = keras.layers.RandomCrop(width=32, height=32)(inputs)\n",
    "conv = keras.layers.Conv2D(filters=2, kernel_size=3)(processed)\n",
    "pooling = keras.layers.GlobalAveragePooling2D()(conv)\n",
    "feature = keras.layers.Dense(10)(pooling)\n",
    "\n",
    "full_model = keras.Model(inputs, feature)\n",
    "backbone = keras.Model(processed, conv)\n",
    "activations = keras.Model(conv, feature)"
   ]
  },
  {
   "cell_type": "code",
   "execution_count": 116,
   "metadata": {},
   "outputs": [],
   "source": [
    "model.compile(optimizer='adam',\n",
    "              loss='binary_crossentropy',\n",
    "              metrics=['accuracy'])"
   ]
  },
  {
   "cell_type": "code",
   "execution_count": 122,
   "metadata": {},
   "outputs": [
    {
     "name": "stdout",
     "output_type": "stream",
     "text": [
      "Epoch 1/30\n",
      "84/84 [==============================] - 1s 9ms/step - loss: 0.1508 - accuracy: 0.9475\n",
      "Epoch 2/30\n",
      "84/84 [==============================] - 1s 10ms/step - loss: 0.1498 - accuracy: 0.9488\n",
      "Epoch 3/30\n",
      "84/84 [==============================] - 1s 10ms/step - loss: 0.1497 - accuracy: 0.9486\n",
      "Epoch 4/30\n",
      "84/84 [==============================] - 1s 10ms/step - loss: 0.1495 - accuracy: 0.9492\n",
      "Epoch 5/30\n",
      "84/84 [==============================] - 1s 11ms/step - loss: 0.1493 - accuracy: 0.9488\n",
      "Epoch 6/30\n",
      "84/84 [==============================] - 1s 10ms/step - loss: 0.1492 - accuracy: 0.9492\n",
      "Epoch 7/30\n",
      "84/84 [==============================] - 1s 10ms/step - loss: 0.1484 - accuracy: 0.9499\n",
      "Epoch 8/30\n",
      "84/84 [==============================] - 1s 10ms/step - loss: 0.1480 - accuracy: 0.9491\n",
      "Epoch 9/30\n",
      "84/84 [==============================] - 1s 10ms/step - loss: 0.1473 - accuracy: 0.9508\n",
      "Epoch 10/30\n",
      "84/84 [==============================] - 1s 10ms/step - loss: 0.1480 - accuracy: 0.9494\n",
      "Epoch 11/30\n",
      "84/84 [==============================] - 1s 10ms/step - loss: 0.1475 - accuracy: 0.9496\n",
      "Epoch 12/30\n",
      "84/84 [==============================] - 1s 10ms/step - loss: 0.1471 - accuracy: 0.9505\n",
      "Epoch 13/30\n",
      "84/84 [==============================] - 1s 9ms/step - loss: 0.1466 - accuracy: 0.9521\n",
      "Epoch 14/30\n",
      "84/84 [==============================] - 1s 10ms/step - loss: 0.1463 - accuracy: 0.9511\n",
      "Epoch 15/30\n",
      "84/84 [==============================] - 1s 10ms/step - loss: 0.1457 - accuracy: 0.9504\n",
      "Epoch 16/30\n",
      "84/84 [==============================] - 1s 10ms/step - loss: 0.1466 - accuracy: 0.9512\n",
      "Epoch 17/30\n",
      "84/84 [==============================] - 1s 10ms/step - loss: 0.1464 - accuracy: 0.9508\n",
      "Epoch 18/30\n",
      "84/84 [==============================] - 1s 10ms/step - loss: 0.1456 - accuracy: 0.9522\n",
      "Epoch 19/30\n",
      "84/84 [==============================] - 1s 8ms/step - loss: 0.1457 - accuracy: 0.9528\n",
      "Epoch 20/30\n",
      "84/84 [==============================] - 1s 8ms/step - loss: 0.1452 - accuracy: 0.9526\n",
      "Epoch 21/30\n",
      "84/84 [==============================] - 1s 10ms/step - loss: 0.1449 - accuracy: 0.9524\n",
      "Epoch 22/30\n",
      "84/84 [==============================] - 1s 10ms/step - loss: 0.1448 - accuracy: 0.9524\n",
      "Epoch 23/30\n",
      "84/84 [==============================] - 1s 10ms/step - loss: 0.1441 - accuracy: 0.9528\n",
      "Epoch 24/30\n",
      "84/84 [==============================] - 1s 9ms/step - loss: 0.1442 - accuracy: 0.9536\n",
      "Epoch 25/30\n",
      "84/84 [==============================] - 1s 11ms/step - loss: 0.1436 - accuracy: 0.9538\n",
      "Epoch 26/30\n",
      "84/84 [==============================] - 1s 10ms/step - loss: 0.1434 - accuracy: 0.9533\n",
      "Epoch 27/30\n",
      "84/84 [==============================] - 1s 8ms/step - loss: 0.1433 - accuracy: 0.9527\n",
      "Epoch 28/30\n",
      "84/84 [==============================] - 1s 10ms/step - loss: 0.1426 - accuracy: 0.9547\n",
      "Epoch 29/30\n",
      "84/84 [==============================] - 1s 10ms/step - loss: 0.1427 - accuracy: 0.9536\n",
      "Epoch 30/30\n",
      "84/84 [==============================] - 1s 8ms/step - loss: 0.1419 - accuracy: 0.9543\n"
     ]
    },
    {
     "data": {
      "text/plain": [
       "<keras.callbacks.History at 0x27c64070880>"
      ]
     },
     "execution_count": 122,
     "metadata": {},
     "output_type": "execute_result"
    }
   ],
   "source": [
    "# обучение нейросети\n",
    "\n",
    "model.fit(train_data,\n",
    "          train_labels,\n",
    "          epochs=30,\n",
    "          batch_size=300,\n",
    "          verbose=1)"
   ]
  },
  {
   "cell_type": "code",
   "execution_count": 123,
   "metadata": {},
   "outputs": [
    {
     "name": "stdout",
     "output_type": "stream",
     "text": [
      "782/782 [==============================] - 2s 2ms/step - loss: 3.2166 - accuracy: 0.4963\n",
      "[3.216641902923584, 0.4962800145149231]\n"
     ]
    }
   ],
   "source": [
    "# результаты на тестовом наборе\n",
    "\n",
    "results = model.evaluate(test_data, test_labels)\n",
    "\n",
    "print(results)"
   ]
  },
  {
   "cell_type": "markdown",
   "metadata": {},
   "source": [
    "#### ответы:\n",
    "\n",
    "*1. точность нейросети зависит от количества epochs и batch_size, чем больше тем выше accuracy* \n",
    "\n",
    "*2. на тестовом наборе вышло accuracy = 0.496*"
   ]
  },
  {
   "cell_type": "code",
   "execution_count": null,
   "metadata": {},
   "outputs": [],
   "source": []
  }
 ],
 "metadata": {
  "colab": {
   "private_outputs": true,
   "provenance": [],
   "toc_visible": true
  },
  "kernelspec": {
   "display_name": "Python 3",
   "language": "python",
   "name": "python3"
  },
  "language_info": {
   "codemirror_mode": {
    "name": "ipython",
    "version": 3
   },
   "file_extension": ".py",
   "mimetype": "text/x-python",
   "name": "python",
   "nbconvert_exporter": "python",
   "pygments_lexer": "ipython3",
   "version": "3.8.8"
  }
 },
 "nbformat": 4,
 "nbformat_minor": 1
}
